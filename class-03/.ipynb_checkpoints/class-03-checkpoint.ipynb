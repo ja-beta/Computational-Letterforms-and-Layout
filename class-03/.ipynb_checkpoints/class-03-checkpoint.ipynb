{
 "cells": [
  {
   "cell_type": "code",
   "execution_count": 2,
   "id": "00fbf6c3-0eb8-4cc3-8fc1-cb4c1e383cd6",
   "metadata": {},
   "outputs": [],
   "source": [
    "poem = open(\"frost.txt\").read()"
   ]
  },
  {
   "cell_type": "code",
   "execution_count": 3,
   "id": "fd9cd23a-0445-4741-a0b9-0f2f85f72d06",
   "metadata": {},
   "outputs": [
    {
     "data": {
      "text/plain": [
       "'Two roads diverged in a yellow wood,\\nAnd sorry I could not travel both\\nAnd be one traveler, long I stood\\nAnd looked down one as far as I could\\nTo where it bent in the undergrowth;\\n\\nThen took the other, as just as fair,\\nAnd having perhaps the better claim,\\nBecause it was grassy and wanted wear;\\nThough as for that the passing there\\nHad worn them really about the same,\\n\\nAnd both that morning equally lay\\nIn leaves no step had trodden black.\\nOh, I kept the first for another day!\\nYet knowing how way leads on to way,\\nI doubted if I should ever come back.\\n\\nI shall be telling this with a sigh\\nSomewhere ages and ages hence:\\nTwo roads diverged in a wood, and I---\\nI took the one less travelled by,\\nAnd that has made all the difference.\\n'"
      ]
     },
     "execution_count": 3,
     "metadata": {},
     "output_type": "execute_result"
    }
   ],
   "source": [
    "poem"
   ]
  },
  {
   "cell_type": "code",
   "execution_count": 4,
   "id": "fbca313d-60c7-421a-b6a5-3550da262fe7",
   "metadata": {},
   "outputs": [
    {
     "name": "stdout",
     "output_type": "stream",
     "text": [
      "Two roads diverged in a yellow wood,\n",
      "And sorry I could not travel both\n",
      "And be one traveler, long I stood\n",
      "And looked down one as far as I could\n",
      "To where it bent in the undergrowth;\n",
      "\n",
      "Then took the other, as just as fair,\n",
      "And having perhaps the better claim,\n",
      "Because it was grassy and wanted wear;\n",
      "Though as for that the passing there\n",
      "Had worn them really about the same,\n",
      "\n",
      "And both that morning equally lay\n",
      "In leaves no step had trodden black.\n",
      "Oh, I kept the first for another day!\n",
      "Yet knowing how way leads on to way,\n",
      "I doubted if I should ever come back.\n",
      "\n",
      "I shall be telling this with a sigh\n",
      "Somewhere ages and ages hence:\n",
      "Two roads diverged in a wood, and I---\n",
      "I took the one less travelled by,\n",
      "And that has made all the difference.\n",
      "\n"
     ]
    }
   ],
   "source": [
    "print(poem)"
   ]
  },
  {
   "cell_type": "code",
   "execution_count": 5,
   "id": "f281e891-84d4-4c2d-9dbf-7d7a5bdc4443",
   "metadata": {},
   "outputs": [
    {
     "data": {
      "text/plain": [
       "733"
      ]
     },
     "execution_count": 5,
     "metadata": {},
     "output_type": "execute_result"
    }
   ],
   "source": [
    "len(poem)"
   ]
  },
  {
   "cell_type": "code",
   "execution_count": 8,
   "id": "c1db6fe7-f7cf-43b4-aadd-9fb492f4133c",
   "metadata": {},
   "outputs": [],
   "source": [
    "words = poem.split() #separates by anything that counts as white space - space, tab, new line..."
   ]
  },
  {
   "cell_type": "code",
   "execution_count": 9,
   "id": "83c0f00f-87fe-4d6b-a580-250c30d08754",
   "metadata": {},
   "outputs": [
    {
     "data": {
      "text/plain": [
       "list"
      ]
     },
     "execution_count": 9,
     "metadata": {},
     "output_type": "execute_result"
    }
   ],
   "source": [
    "type(words)"
   ]
  },
  {
   "cell_type": "markdown",
   "id": "5ccec726-298f-4bf6-abbb-84696bcd7588",
   "metadata": {},
   "source": [
    "# Basics of indexig in python"
   ]
  },
  {
   "cell_type": "code",
   "execution_count": 10,
   "id": "02c3ed7b-0f42-412d-a79b-0ac00c724cf8",
   "metadata": {},
   "outputs": [
    {
     "data": {
      "text/plain": [
       "'Two'"
      ]
     },
     "execution_count": 10,
     "metadata": {},
     "output_type": "execute_result"
    }
   ],
   "source": [
    "words[0]"
   ]
  },
  {
   "cell_type": "code",
   "execution_count": 12,
   "id": "acdbbe30-9040-46db-99d8-6225817934d3",
   "metadata": {},
   "outputs": [
    {
     "data": {
      "text/plain": [
       "'all'"
      ]
     },
     "execution_count": 12,
     "metadata": {},
     "output_type": "execute_result"
    }
   ],
   "source": [
    "words[-3]"
   ]
  },
  {
   "cell_type": "markdown",
   "id": "f6272690-d08d-4e06-88df-f44d4486257c",
   "metadata": {},
   "source": [
    "### slices"
   ]
  },
  {
   "cell_type": "code",
   "execution_count": 13,
   "id": "102906aa-824e-4511-a5ed-79c6526a19ed",
   "metadata": {},
   "outputs": [
    {
     "data": {
      "text/plain": [
       "['in', 'a', 'yellow', 'wood,', 'And', 'sorry']"
      ]
     },
     "execution_count": 13,
     "metadata": {},
     "output_type": "execute_result"
    }
   ],
   "source": [
    "words[3:9]"
   ]
  },
  {
   "cell_type": "code",
   "execution_count": 14,
   "id": "6841212a-a0ae-4f92-b733-38a85666f63e",
   "metadata": {},
   "outputs": [
    {
     "data": {
      "text/plain": [
       "['Two', 'roads', 'diverged']"
      ]
     },
     "execution_count": 14,
     "metadata": {},
     "output_type": "execute_result"
    }
   ],
   "source": [
    "words[:3]"
   ]
  },
  {
   "cell_type": "code",
   "execution_count": 22,
   "id": "9cbeb035-a017-4c68-a7fd-7eabab5e8497",
   "metadata": {},
   "outputs": [
    {
     "data": {
      "text/plain": [
       "['And', 'that', 'has', 'made', 'all', 'the', 'difference.']"
      ]
     },
     "execution_count": 22,
     "metadata": {},
     "output_type": "execute_result"
    }
   ],
   "source": [
    "words[137:]"
   ]
  },
  {
   "cell_type": "markdown",
   "id": "d01309b9-9fac-4691-b061-40c737ab74d8",
   "metadata": {},
   "source": [
    "# Randomness"
   ]
  },
  {
   "cell_type": "code",
   "execution_count": 23,
   "id": "e78e092d-5cd0-4db6-a32c-6fd56a8e53cd",
   "metadata": {},
   "outputs": [],
   "source": [
    "import random"
   ]
  },
  {
   "cell_type": "code",
   "execution_count": 25,
   "id": "831ada94-9432-4ed8-b8b2-a537b7091f05",
   "metadata": {},
   "outputs": [
    {
     "data": {
      "text/plain": [
       "'one'"
      ]
     },
     "execution_count": 25,
     "metadata": {},
     "output_type": "execute_result"
    }
   ],
   "source": [
    "random.choice(words) #will return a random item from the list"
   ]
  },
  {
   "cell_type": "code",
   "execution_count": 28,
   "id": "a9a4a35a-a214-4cfc-a7a0-a01e93e0c655",
   "metadata": {},
   "outputs": [
    {
     "data": {
      "text/plain": [
       "['that', 'roads', 'worn', 'one', 'same,']"
      ]
     },
     "execution_count": 28,
     "metadata": {},
     "output_type": "execute_result"
    }
   ],
   "source": [
    "random.sample(words, 5) #will not pick the same word twice unless it exists twice"
   ]
  },
  {
   "cell_type": "code",
   "execution_count": 35,
   "id": "3cdc86b1-4463-4d0f-b3cf-017a13117b00",
   "metadata": {},
   "outputs": [
    {
     "data": {
      "text/plain": [
       "6317"
      ]
     },
     "execution_count": 35,
     "metadata": {},
     "output_type": "execute_result"
    }
   ],
   "source": [
    "random.randrange(10000) #generate a random int in the specified range"
   ]
  },
  {
   "cell_type": "code",
   "execution_count": 34,
   "id": "8b0b2aea-fdd4-40b6-823b-8ed4f3108e1c",
   "metadata": {
    "scrolled": true
   },
   "outputs": [
    {
     "data": {
      "text/plain": [
       "['And',\n",
       " 'wear;',\n",
       " 'trodden',\n",
       " 'bent',\n",
       " 'passing',\n",
       " 'the',\n",
       " 'if',\n",
       " 'just',\n",
       " 'was',\n",
       " 'stood',\n",
       " 'took',\n",
       " 'black.',\n",
       " 'Had',\n",
       " 'step',\n",
       " 'same,',\n",
       " 'in',\n",
       " 'To',\n",
       " 'Oh,',\n",
       " 'And',\n",
       " 'the',\n",
       " 'Then',\n",
       " 'lay',\n",
       " 'on',\n",
       " 'wood,',\n",
       " 'has',\n",
       " 'had',\n",
       " 'the',\n",
       " 'down',\n",
       " 'where',\n",
       " 'as',\n",
       " 'roads',\n",
       " 'shall',\n",
       " 'ages',\n",
       " 'should',\n",
       " 'and',\n",
       " 'diverged',\n",
       " 'other,',\n",
       " 'roads',\n",
       " 'sigh',\n",
       " 'long',\n",
       " 'Yet',\n",
       " 'all',\n",
       " 'as',\n",
       " 'as',\n",
       " 'the',\n",
       " 'way,',\n",
       " 'better',\n",
       " 'for',\n",
       " 'I',\n",
       " 'yellow',\n",
       " 'Because',\n",
       " 'far',\n",
       " 'them',\n",
       " 'hence:',\n",
       " 'travel',\n",
       " 'one',\n",
       " 'having',\n",
       " 'I',\n",
       " 'a',\n",
       " 'that',\n",
       " 'telling',\n",
       " 'by,',\n",
       " 'how',\n",
       " 'ever',\n",
       " 'undergrowth;',\n",
       " 'diverged',\n",
       " 'it',\n",
       " 'took',\n",
       " 'difference.',\n",
       " 'I',\n",
       " 'in',\n",
       " 'way',\n",
       " 'And',\n",
       " 'really',\n",
       " 'And',\n",
       " 'that',\n",
       " 'travelled',\n",
       " 'that',\n",
       " 'another',\n",
       " 'sorry',\n",
       " 'for',\n",
       " 'the',\n",
       " 'a',\n",
       " 'grassy',\n",
       " 'worn',\n",
       " 'a',\n",
       " 'equally',\n",
       " 'one',\n",
       " 'morning',\n",
       " 'it',\n",
       " 'claim,',\n",
       " 'not',\n",
       " 'kept',\n",
       " 'wood,',\n",
       " 'Two',\n",
       " 'doubted',\n",
       " 'to',\n",
       " 'perhaps',\n",
       " 'I',\n",
       " 'looked',\n",
       " 'come',\n",
       " 'I',\n",
       " 'And',\n",
       " 'no',\n",
       " 'knowing',\n",
       " 'first',\n",
       " 'wanted',\n",
       " 'there',\n",
       " 'and',\n",
       " 'made',\n",
       " 'fair,',\n",
       " 'the',\n",
       " 'about',\n",
       " 'both',\n",
       " 'the',\n",
       " 'day!',\n",
       " 'I',\n",
       " 'I',\n",
       " 'and',\n",
       " 'could',\n",
       " 'leaves',\n",
       " 'In',\n",
       " 'in',\n",
       " 'Somewhere',\n",
       " 'And',\n",
       " 'could',\n",
       " 'less',\n",
       " 'I',\n",
       " 'I---',\n",
       " 'this',\n",
       " 'traveler,',\n",
       " 'be',\n",
       " 'the',\n",
       " 'ages',\n",
       " 'as',\n",
       " 'Though',\n",
       " 'be',\n",
       " 'with',\n",
       " 'both',\n",
       " 'back.',\n",
       " 'Two',\n",
       " 'one',\n",
       " 'as',\n",
       " 'leads']"
      ]
     },
     "execution_count": 34,
     "metadata": {},
     "output_type": "execute_result"
    }
   ],
   "source": [
    "random.sample(words, len(words)) #get the entire list in random order"
   ]
  },
  {
   "cell_type": "markdown",
   "id": "4837894a-9cc2-4397-931c-c74a16885cad",
   "metadata": {},
   "source": [
    "## Comprehensions and loops"
   ]
  },
  {
   "cell_type": "markdown",
   "id": "ef52c549-ca20-4109-a68a-e20189b8b1f4",
   "metadata": {},
   "source": [
    "```\n",
    "[    for    in    if   ]\n",
    "\n",
    "\"if\" is optional, if we don't include it, then all items in the list will be included \n",
    "```"
   ]
  },
  {
   "cell_type": "code",
   "execution_count": 38,
   "id": "9c4ef805-ca7b-4cf5-b9ef-320aae1fccb5",
   "metadata": {},
   "outputs": [
    {
     "data": {
      "text/plain": [
       "['DIVERGED',\n",
       " 'TRAVELER,',\n",
       " 'UNDERGROWTH;',\n",
       " 'SOMEWHERE',\n",
       " 'DIVERGED',\n",
       " 'TRAVELLED',\n",
       " 'DIFFERENCE.']"
      ]
     },
     "execution_count": 38,
     "metadata": {},
     "output_type": "execute_result"
    }
   ],
   "source": [
    "[ item.upper() for item in words if len(item) > 7 ] #perform uppercase on all words in the text that have more than 7 letters"
   ]
  },
  {
   "cell_type": "code",
   "execution_count": 39,
   "id": "0352aa0e-8cea-4c8c-84ff-faf45a3415ce",
   "metadata": {},
   "outputs": [],
   "source": [
    "numbers = [7, 25, 4, 1, 90, 8]"
   ]
  },
  {
   "cell_type": "code",
   "execution_count": 42,
   "id": "45e14fa2-6c2d-40c7-8275-cd0d50f29fd9",
   "metadata": {},
   "outputs": [
    {
     "data": {
      "text/plain": [
       "[49, 16, 1, 64]"
      ]
     },
     "execution_count": 42,
     "metadata": {},
     "output_type": "execute_result"
    }
   ],
   "source": [
    "[x*x for x in numbers if x < 25 ] #multiple number by itslef, for each number on the list that is smaller than 25"
   ]
  },
  {
   "cell_type": "code",
   "execution_count": 47,
   "id": "de37c634-04c7-4dbb-86ab-8c26cc7b108f",
   "metadata": {},
   "outputs": [
    {
     "data": {
      "text/plain": [
       "[7, 7, 7, 7, 7]"
      ]
     },
     "execution_count": 47,
     "metadata": {},
     "output_type": "execute_result"
    }
   ],
   "source": [
    "[ 7 for item in [1, 2, 3, 4, 5]]"
   ]
  },
  {
   "cell_type": "markdown",
   "id": "d6306ea3-4f13-4633-b0a2-11c10a36258c",
   "metadata": {},
   "source": [
    "## side quest on string indexing"
   ]
  },
  {
   "cell_type": "code",
   "execution_count": 44,
   "id": "f6ace938-a91c-4dd4-a7b8-cf151f9ad66c",
   "metadata": {},
   "outputs": [],
   "source": [
    "message = \"bungalow\""
   ]
  },
  {
   "cell_type": "code",
   "execution_count": 45,
   "id": "1726a1cd-b47d-405c-becc-b1796bcf2398",
   "metadata": {},
   "outputs": [
    {
     "data": {
      "text/plain": [
       "'b'"
      ]
     },
     "execution_count": 45,
     "metadata": {},
     "output_type": "execute_result"
    }
   ],
   "source": [
    "message[0]"
   ]
  },
  {
   "cell_type": "code",
   "execution_count": 48,
   "id": "39b92a4a-e545-4a6f-9e94-18de20d35fd6",
   "metadata": {},
   "outputs": [
    {
     "data": {
      "text/plain": [
       "'ngal'"
      ]
     },
     "execution_count": 48,
     "metadata": {},
     "output_type": "execute_result"
    }
   ],
   "source": [
    "message[2:-2]"
   ]
  },
  {
   "cell_type": "code",
   "execution_count": 51,
   "id": "380a536f-14f9-45ed-bde9-f3415978a9ba",
   "metadata": {},
   "outputs": [
    {
     "data": {
      "text/plain": [
       "True"
      ]
     },
     "execution_count": 51,
     "metadata": {},
     "output_type": "execute_result"
    }
   ],
   "source": [
    "message.endswith('low')"
   ]
  },
  {
   "cell_type": "markdown",
   "id": "f9ac4d0f-9f69-470b-b7fa-bca389792a7b",
   "metadata": {},
   "source": [
    "### side quest complete"
   ]
  },
  {
   "cell_type": "code",
   "execution_count": 49,
   "id": "e63cbca5-e227-42ce-a649-80aaaef293d9",
   "metadata": {
    "scrolled": true
   },
   "outputs": [
    {
     "data": {
      "text/plain": [
       "['T',\n",
       " 'r',\n",
       " 'd',\n",
       " 'i',\n",
       " 'a',\n",
       " 'y',\n",
       " 'w',\n",
       " 'A',\n",
       " 's',\n",
       " 'I',\n",
       " 'c',\n",
       " 'n',\n",
       " 't',\n",
       " 'b',\n",
       " 'A',\n",
       " 'b',\n",
       " 'o',\n",
       " 't',\n",
       " 'l',\n",
       " 'I',\n",
       " 's',\n",
       " 'A',\n",
       " 'l',\n",
       " 'd',\n",
       " 'o',\n",
       " 'a',\n",
       " 'f',\n",
       " 'a',\n",
       " 'I',\n",
       " 'c',\n",
       " 'T',\n",
       " 'w',\n",
       " 'i',\n",
       " 'b',\n",
       " 'i',\n",
       " 't',\n",
       " 'u',\n",
       " 'T',\n",
       " 't',\n",
       " 't',\n",
       " 'o',\n",
       " 'a',\n",
       " 'j',\n",
       " 'a',\n",
       " 'f',\n",
       " 'A',\n",
       " 'h',\n",
       " 'p',\n",
       " 't',\n",
       " 'b',\n",
       " 'c',\n",
       " 'B',\n",
       " 'i',\n",
       " 'w',\n",
       " 'g',\n",
       " 'a',\n",
       " 'w',\n",
       " 'w',\n",
       " 'T',\n",
       " 'a',\n",
       " 'f',\n",
       " 't',\n",
       " 't',\n",
       " 'p',\n",
       " 't',\n",
       " 'H',\n",
       " 'w',\n",
       " 't',\n",
       " 'r',\n",
       " 'a',\n",
       " 't',\n",
       " 's',\n",
       " 'A',\n",
       " 'b',\n",
       " 't',\n",
       " 'm',\n",
       " 'e',\n",
       " 'l',\n",
       " 'I',\n",
       " 'l',\n",
       " 'n',\n",
       " 's',\n",
       " 'h',\n",
       " 't',\n",
       " 'b',\n",
       " 'O',\n",
       " 'I',\n",
       " 'k',\n",
       " 't',\n",
       " 'f',\n",
       " 'f',\n",
       " 'a',\n",
       " 'd',\n",
       " 'Y',\n",
       " 'k',\n",
       " 'h',\n",
       " 'w',\n",
       " 'l',\n",
       " 'o',\n",
       " 't',\n",
       " 'w',\n",
       " 'I',\n",
       " 'd',\n",
       " 'i',\n",
       " 'I',\n",
       " 's',\n",
       " 'e',\n",
       " 'c',\n",
       " 'b',\n",
       " 'I',\n",
       " 's',\n",
       " 'b',\n",
       " 't',\n",
       " 't',\n",
       " 'w',\n",
       " 'a',\n",
       " 's',\n",
       " 'S',\n",
       " 'a',\n",
       " 'a',\n",
       " 'a',\n",
       " 'h',\n",
       " 'T',\n",
       " 'r',\n",
       " 'd',\n",
       " 'i',\n",
       " 'a',\n",
       " 'w',\n",
       " 'a',\n",
       " 'I',\n",
       " 'I',\n",
       " 't',\n",
       " 't',\n",
       " 'o',\n",
       " 'l',\n",
       " 't',\n",
       " 'b',\n",
       " 'A',\n",
       " 't',\n",
       " 'h',\n",
       " 'm',\n",
       " 'a',\n",
       " 't',\n",
       " 'd']"
      ]
     },
     "execution_count": 49,
     "metadata": {},
     "output_type": "execute_result"
    }
   ],
   "source": [
    "[item[0] for item in words]"
   ]
  },
  {
   "cell_type": "code",
   "execution_count": 52,
   "id": "a71452c3-315a-43e1-94ad-8b30bb144161",
   "metadata": {},
   "outputs": [
    {
     "data": {
      "text/plain": [
       "['having', 'passing', 'morning', 'knowing', 'telling']"
      ]
     },
     "execution_count": 52,
     "metadata": {},
     "output_type": "execute_result"
    }
   ],
   "source": [
    "[item for item in words if item.endswith('ing')]"
   ]
  },
  {
   "cell_type": "markdown",
   "id": "d23bc20c-1af5-43fc-a3bf-6a743913e1aa",
   "metadata": {},
   "source": [
    "### for loops"
   ]
  },
  {
   "cell_type": "code",
   "execution_count": 54,
   "id": "4226156e-ddee-4a4e-a7ac-b6c3cf42abb0",
   "metadata": {},
   "outputs": [],
   "source": [
    "first_letters = []\n",
    "for item in words:\n",
    "    tmp = item[0];\n",
    "    first_letters.append(tmp) #take the item and put it into the array"
   ]
  },
  {
   "cell_type": "code",
   "execution_count": 55,
   "id": "792ecc75-18d7-4ff3-9b32-6d41b77d79b2",
   "metadata": {
    "scrolled": true
   },
   "outputs": [
    {
     "data": {
      "text/plain": [
       "['T',\n",
       " 'r',\n",
       " 'd',\n",
       " 'i',\n",
       " 'a',\n",
       " 'y',\n",
       " 'w',\n",
       " 'A',\n",
       " 's',\n",
       " 'I',\n",
       " 'c',\n",
       " 'n',\n",
       " 't',\n",
       " 'b',\n",
       " 'A',\n",
       " 'b',\n",
       " 'o',\n",
       " 't',\n",
       " 'l',\n",
       " 'I',\n",
       " 's',\n",
       " 'A',\n",
       " 'l',\n",
       " 'd',\n",
       " 'o',\n",
       " 'a',\n",
       " 'f',\n",
       " 'a',\n",
       " 'I',\n",
       " 'c',\n",
       " 'T',\n",
       " 'w',\n",
       " 'i',\n",
       " 'b',\n",
       " 'i',\n",
       " 't',\n",
       " 'u',\n",
       " 'T',\n",
       " 't',\n",
       " 't',\n",
       " 'o',\n",
       " 'a',\n",
       " 'j',\n",
       " 'a',\n",
       " 'f',\n",
       " 'A',\n",
       " 'h',\n",
       " 'p',\n",
       " 't',\n",
       " 'b',\n",
       " 'c',\n",
       " 'B',\n",
       " 'i',\n",
       " 'w',\n",
       " 'g',\n",
       " 'a',\n",
       " 'w',\n",
       " 'w',\n",
       " 'T',\n",
       " 'a',\n",
       " 'f',\n",
       " 't',\n",
       " 't',\n",
       " 'p',\n",
       " 't',\n",
       " 'H',\n",
       " 'w',\n",
       " 't',\n",
       " 'r',\n",
       " 'a',\n",
       " 't',\n",
       " 's',\n",
       " 'A',\n",
       " 'b',\n",
       " 't',\n",
       " 'm',\n",
       " 'e',\n",
       " 'l',\n",
       " 'I',\n",
       " 'l',\n",
       " 'n',\n",
       " 's',\n",
       " 'h',\n",
       " 't',\n",
       " 'b',\n",
       " 'O',\n",
       " 'I',\n",
       " 'k',\n",
       " 't',\n",
       " 'f',\n",
       " 'f',\n",
       " 'a',\n",
       " 'd',\n",
       " 'Y',\n",
       " 'k',\n",
       " 'h',\n",
       " 'w',\n",
       " 'l',\n",
       " 'o',\n",
       " 't',\n",
       " 'w',\n",
       " 'I',\n",
       " 'd',\n",
       " 'i',\n",
       " 'I',\n",
       " 's',\n",
       " 'e',\n",
       " 'c',\n",
       " 'b',\n",
       " 'I',\n",
       " 's',\n",
       " 'b',\n",
       " 't',\n",
       " 't',\n",
       " 'w',\n",
       " 'a',\n",
       " 's',\n",
       " 'S',\n",
       " 'a',\n",
       " 'a',\n",
       " 'a',\n",
       " 'h',\n",
       " 'T',\n",
       " 'r',\n",
       " 'd',\n",
       " 'i',\n",
       " 'a',\n",
       " 'w',\n",
       " 'a',\n",
       " 'I',\n",
       " 'I',\n",
       " 't',\n",
       " 't',\n",
       " 'o',\n",
       " 'l',\n",
       " 't',\n",
       " 'b',\n",
       " 'A',\n",
       " 't',\n",
       " 'h',\n",
       " 'm',\n",
       " 'a',\n",
       " 't',\n",
       " 'd']"
      ]
     },
     "execution_count": 55,
     "metadata": {},
     "output_type": "execute_result"
    }
   ],
   "source": [
    "first_letters"
   ]
  },
  {
   "cell_type": "code",
   "execution_count": 57,
   "id": "803cc4cb-12b3-4156-9f8e-37ebdb43b685",
   "metadata": {},
   "outputs": [
    {
     "name": "stdout",
     "output_type": "stream",
     "text": [
      "0\n",
      "1\n",
      "2\n",
      "3\n",
      "4\n",
      "5\n",
      "6\n",
      "7\n",
      "8\n",
      "9\n"
     ]
    }
   ],
   "source": [
    "for i in range(10): #the python way of making a \"normal counting\" for loop thingy\n",
    "    print(i)"
   ]
  },
  {
   "cell_type": "markdown",
   "id": "f89c674f-7fe0-491a-942d-c4bc56d6cabc",
   "metadata": {},
   "source": [
    "## joining words back together\n",
    "like take a list and turn ir back into a single string"
   ]
  },
  {
   "cell_type": "code",
   "execution_count": 60,
   "id": "a3631b2d-a1bd-4e6e-be32-66a50f57f4ad",
   "metadata": {},
   "outputs": [
    {
     "data": {
      "text/plain": [
       "['both',\n",
       " 'long',\n",
       " 'down',\n",
       " 'bent',\n",
       " 'Then',\n",
       " 'took',\n",
       " 'just',\n",
       " 'that',\n",
       " 'worn',\n",
       " 'them',\n",
       " 'both',\n",
       " 'that',\n",
       " 'step',\n",
       " 'kept',\n",
       " 'day!',\n",
       " 'way,',\n",
       " 'ever',\n",
       " 'come',\n",
       " 'this',\n",
       " 'with',\n",
       " 'sigh',\n",
       " 'ages',\n",
       " 'ages',\n",
       " 'I---',\n",
       " 'took',\n",
       " 'less',\n",
       " 'that',\n",
       " 'made']"
      ]
     },
     "execution_count": 60,
     "metadata": {},
     "output_type": "execute_result"
    }
   ],
   "source": [
    "four_letter_words = [item for item in words if len(item) == 4]\n",
    "four_letter_words"
   ]
  },
  {
   "cell_type": "code",
   "execution_count": 61,
   "id": "62770449-ddf3-4152-a9a8-ed6f4ce876f2",
   "metadata": {},
   "outputs": [
    {
     "data": {
      "text/plain": [
       "'both! long! down! bent! Then! took! just! that! worn! them! both! that! step! kept! day!! way,! ever! come! this! with! sigh! ages! ages! I---! took! less! that! made'"
      ]
     },
     "execution_count": 61,
     "metadata": {},
     "output_type": "execute_result"
    }
   ],
   "source": [
    "glue = \"! \"\n",
    "glue.join(four_letter_words)"
   ]
  },
  {
   "cell_type": "code",
   "execution_count": 62,
   "id": "90815113-9780-444a-9268-de3f33fb59e8",
   "metadata": {},
   "outputs": [
    {
     "data": {
      "text/plain": [
       "'both long down bent Then took just that worn them both that step kept day! way, ever come this with sigh ages ages I--- took less that made'"
      ]
     },
     "execution_count": 62,
     "metadata": {},
     "output_type": "execute_result"
    }
   ],
   "source": [
    "\" \".join(four_letter_words)"
   ]
  }
 ],
 "metadata": {
  "kernelspec": {
   "display_name": "Python 3 (ipykernel)",
   "language": "python",
   "name": "python3"
  },
  "language_info": {
   "codemirror_mode": {
    "name": "ipython",
    "version": 3
   },
   "file_extension": ".py",
   "mimetype": "text/x-python",
   "name": "python",
   "nbconvert_exporter": "python",
   "pygments_lexer": "ipython3",
   "version": "3.12.3"
  }
 },
 "nbformat": 4,
 "nbformat_minor": 5
}
